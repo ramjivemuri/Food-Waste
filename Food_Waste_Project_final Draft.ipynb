{
 "cells": [
  {
   "cell_type": "code",
   "execution_count": null,
   "id": "77b1f09e-1aba-49d2-a5e1-f14c3df5cfe8",
   "metadata": {},
   "outputs": [],
   "source": [
    "import pandas as pd\n",
    "import sqlite3\n",
    "import psycopg"
   ]
  },
  {
   "cell_type": "code",
   "execution_count": null,
   "id": "23db42de-0113-45ba-9af4-0d9df10c0b4a",
   "metadata": {},
   "outputs": [],
   "source": [
    "providers_df = pd.read_csv('providers_data.csv')\n",
    "receivers_df = pd.read_csv('receivers_data.csv')\n",
    "food_listings_df = pd.read_csv('food_listings_data.csv')\n",
    "claims_df = pd.read_csv('claims_data.csv')"
   ]
  },
  {
   "cell_type": "code",
   "execution_count": null,
   "id": "c77fe658-f763-4e17-83fa-d4882190667c",
   "metadata": {},
   "outputs": [],
   "source": [
    "providers_df"
   ]
  },
  {
   "cell_type": "code",
   "execution_count": null,
   "id": "0fa88f16-2e80-4e29-b4df-76c36c9921f2",
   "metadata": {},
   "outputs": [],
   "source": [
    "receivers_df"
   ]
  },
  {
   "cell_type": "code",
   "execution_count": null,
   "id": "954a40b7-b1d4-4976-8b80-f17e2ae40917",
   "metadata": {},
   "outputs": [],
   "source": [
    "food_listings_df"
   ]
  },
  {
   "cell_type": "code",
   "execution_count": null,
   "id": "3f1357d6-b09e-4814-98b4-75142b52c53b",
   "metadata": {},
   "outputs": [],
   "source": [
    "claims_df"
   ]
  },
  {
   "cell_type": "code",
   "execution_count": null,
   "id": "c4103a2a-b268-4d47-b196-63e5141a32be",
   "metadata": {},
   "outputs": [],
   "source": [
    "print(food_listings_df.info())\n",
    "print(food_listings_df.head(5))"
   ]
  },
  {
   "cell_type": "code",
   "execution_count": null,
   "id": "46947ac2-ec8d-45b3-b45e-6beddf3eef44",
   "metadata": {},
   "outputs": [],
   "source": [
    "!pip install psycopg\n",
    "import psycopg\n",
    "!pip install psycopg2\n",
    "import psycopg2"
   ]
  },
  {
   "cell_type": "code",
   "execution_count": null,
   "id": "085c48f5-c27b-459a-a974-1efd54e62e49",
   "metadata": {},
   "outputs": [],
   "source": [
    "DB_CONFIG = {\n",
    "    \"dbname\" == \"ramji\",\n",
    "    \"username\" == \"postgres\",\n",
    "    \"password\" == \"Ktm@9291\",\n",
    "    \"host\" == \"localhost\",\n",
    "    \"port\" == 5432\n",
    "}\n",
    "\n",
    "connection = psycopg2.connect(host = \"localhost\",database = \"ramji\", user = \"postgres\" , password =\"Ktm@9291\")\n",
    "cur = connection.cursor()\n"
   ]
  },
  {
   "cell_type": "code",
   "execution_count": null,
   "id": "9168f376-7a4d-4696-9845-6df5ea58ff27",
   "metadata": {},
   "outputs": [],
   "source": [
    "# Create providers table\n",
    "cur.execute(\"\"\"\n",
    "CREATE TABLE IF NOT EXISTS providers (\n",
    "Provider_ID INTEGER PRIMARY KEY,\n",
    "Name TEXT,\n",
    "Type TEXT,\n",
    "Address TEXT,\n",
    "City TEXT,\n",
    "Contact TEXT\n",
    ");\n",
    "\"\"\")\n",
    "connection.commit()\n",
    "connection.autocommit = True"
   ]
  },
  {
   "cell_type": "code",
   "execution_count": null,
   "id": "8202ef51-ff5a-4911-9eb9-c79226eace05",
   "metadata": {},
   "outputs": [],
   "source": [
    "# Create receivers table\n",
    "cur.execute(\"\"\"\n",
    "CREATE TABLE IF NOT EXISTS receivers (\n",
    "Receiver_ID INTEGER PRIMARY KEY,\n",
    "Name TEXT,\n",
    "Type TEXT,\n",
    "City TEXT,\n",
    "Contact TEXT\n",
    ");\n",
    "\"\"\")"
   ]
  },
  {
   "cell_type": "code",
   "execution_count": null,
   "id": "8bb9822b-5c80-4a1c-86ab-5d24cf735182",
   "metadata": {},
   "outputs": [],
   "source": [
    "# Create food_listings table with foreign key linking to providers\n",
    "cur.execute(\"\"\"\n",
    "CREATE TABLE IF NOT EXISTS food_listings (\n",
    "Food_ID INTEGER PRIMARY KEY,\n",
    "Food_Name TEXT,\n",
    "Quantity INTEGER,\n",
    "Expiry_Date TEXT,\n",
    "Provider_ID INTEGER,\n",
    "Provider_Type TEXT,\n",
    "Location TEXT,\n",
    "Food_Type TEXT,\n",
    "Meal_Type TEXT,\n",
    "FOREIGN KEY(Provider_ID) REFERENCES providers(Provider_ID));\n",
    "\"\"\")"
   ]
  },
  {
   "cell_type": "code",
   "execution_count": null,
   "id": "1757114a-0b0d-4212-b772-c4210a68c2e4",
   "metadata": {},
   "outputs": [],
   "source": [
    "# Create claims table with foreign keys to food_listings and receivers\n",
    "cur.execute(\"\"\"\n",
    "CREATE TABLE IF NOT EXISTS claims (\n",
    "Claim_ID INTEGER PRIMARY KEY,\n",
    "Food_ID INTEGER,\n",
    "Receiver_ID INTEGER,\n",
    "Status TEXT,\n",
    "Timestamp TEXT,\n",
    "FOREIGN KEY(Food_ID) REFERENCES food_listings(Food_ID),\n",
    "FOREIGN KEY(Receiver_ID) REFERENCES receivers(Receiver_ID)\n",
    ");\n",
    "\"\"\")"
   ]
  },
  {
   "cell_type": "code",
   "execution_count": null,
   "id": "c3371954-8a86-4950-822b-9ee2f06284fa",
   "metadata": {},
   "outputs": [],
   "source": [
    "# 1. How many food providers and receivers are there in each city?\n",
    "query = \"select City, count(*) from providers group by City\"\n",
    "cur.execute(query)\n",
    "rows = cur.fetchall()\n",
    "for row in rows:\n",
    "    print (row)\n",
    "# query = \"select City, count(*) 'Nos of Receivers' from receivers group by City\"\n",
    "# receivers_count = pd.read_sql_query(query, connection)\n",
    "# print(receivers_count.head())\n",
    "query = \"select City, count(*) from receivers group by City\"\n",
    "cur.execute(query)\n",
    "rows = cur.fetchall()\n",
    "for row in rows:\n",
    "    print (row)"
   ]
  },
  {
   "cell_type": "code",
   "execution_count": null,
   "id": "e0c0925f-d4b1-481a-853a-0b322cf9c816",
   "metadata": {},
   "outputs": [],
   "source": [
    "# 2. Which type of food provider (restaurant, grocery store, etc.) contributes the most food?\n",
    "query = \"select Provider_Type, SUM(Quantity) from food_listings, providers where food_listings.Provider_ID = providers.Provider_ID group by Provider_Type order by SUM(Quantity) desc\"\n",
    "cur.execute(query)\n",
    "rows = cur.fetchall()\n",
    "for row in rows:\n",
    "    print (row)"
   ]
  },
  {
   "cell_type": "code",
   "execution_count": null,
   "id": "f9b849c1-09cf-461b-bc5e-2467afdf2055",
   "metadata": {},
   "outputs": [],
   "source": [
    "# # # 3. What is the contact information of food providers in a specific city?\n",
    "# query = \"select  city, count(*) from providers  group by City SELECT Name,city,Contact FROM providers WHERE city IN (SELECT city FROM providers GROUP BY city HAVING COUNT(*) > 1) union all SELECT Name, City,Contact FROM providers WHERE city IN (SELECT city FROM providers GROUP BY city HAVING COUNT(*) = 1)\"\n",
    "# cur.execute(query)\n",
    "# rows = cur.fetchall()\n",
    "# for row in rows:\n",
    "#  print (row)\n"
   ]
  },
  {
   "cell_type": "code",
   "execution_count": null,
   "id": "bee2d60a-4f31-4ea9-8e8c-7a845f3810d4",
   "metadata": {},
   "outputs": [],
   "source": [
    "# 4. Which receivers have claimed the most food?\n",
    "query = \"select  c.Receiver_ID,type,Status,count(*) from receivers r,claims c where r.Receiver_ID= c.Receiver_ID and Status = 'Completed' group by c.Receiver_ID,type,Status having count(*) > 1\"\n",
    "cur.execute(query)\n",
    "rows = cur.fetchall()\n",
    "for row in rows:\n",
    "    print (row)"
   ]
  },
  {
   "cell_type": "code",
   "execution_count": null,
   "id": "53f81362-badb-4750-8fcf-b9e63872780d",
   "metadata": {},
   "outputs": [],
   "source": [
    "# 5. What is the total quantity of food available from all providers?\n",
    "query = \"select SUM(Quantity) from food_listings left join claims on claims.Food_ID = food_listings.Food_ID where Claim_ID is null\"\n",
    "cur.execute(query)\n",
    "rows = cur.fetchall()\n",
    "for row in rows:\n",
    "    print (row)"
   ]
  },
  {
   "cell_type": "code",
   "execution_count": null,
   "id": "17be6772-f636-474c-9954-155c68e1c0b2",
   "metadata": {},
   "outputs": [],
   "source": [
    "# 6. Which city has the highest number of food listings?\n",
    "\n",
    "query = \"select fl.provider_ID,city, SUM(Quantity) from providers P, food_listings FL where p.Provider_ID = FL.Provider_ID group by fl.Provider_ID,City order by SUM(Quantity) desc\"\n",
    "cur.execute(query)\n",
    "rows = cur.fetchall()\n",
    "for row in rows:\n",
    "    print (row)"
   ]
  },
  {
   "cell_type": "code",
   "execution_count": null,
   "id": "f06a19cb-2457-4dc3-b62b-a644b2d8d2f6",
   "metadata": {},
   "outputs": [],
   "source": [
    "# 7. What are the most commonly available food types?\n",
    "\n",
    "query = \"SELECT Food_Type, COUNT(*) AS Availability_Count FROM Food_Listings GROUP BY Food_Type ORDER BY Availability_Count DESC\"\n",
    "cur.execute(query)\n",
    "rows = cur.fetchall()\n",
    "for row in rows:\n",
    "    print (row)"
   ]
  },
  {
   "cell_type": "code",
   "execution_count": null,
   "id": "554a32c8-de33-49d7-b8d0-465f23011175",
   "metadata": {},
   "outputs": [],
   "source": [
    "# 8. How many food claims have been made for each food item?\n",
    "\n",
    "query = \"select f.food_name,count(Claim_ID) as claims  from providers p, food_listings f,claims c where p.Provider_ID = f.Provider_ID and f.Food_ID = c.Food_ID group by f.Food_Name order by claims  desc \"\n",
    "cur.execute(query)\n",
    "rows = cur.fetchall()\n",
    "for row in rows:\n",
    "    print (row)"
   ]
  },
  {
   "cell_type": "code",
   "execution_count": null,
   "id": "8e1cdcf9-eea1-45d2-b3ab-60ccd86af21a",
   "metadata": {},
   "outputs": [],
   "source": [
    "# 9. Which provider has had the highest number of successful food claims?\n",
    "\n",
    "query = \"select p.Provider_ID,count(*),Name from providers p, food_listings f,claims c where p.Provider_ID = f.Provider_ID and f.Food_ID = c.Food_ID group by p.Provider_ID,name having count(*) > 1 order by count(*) desc\"\n",
    "cur.execute(query)\n",
    "rows = cur.fetchall()\n",
    "for row in rows:\n",
    "    print (row)"
   ]
  },
  {
   "cell_type": "code",
   "execution_count": null,
   "id": "cacae226-5b2f-43d1-a487-cbf4d0c133fa",
   "metadata": {},
   "outputs": [],
   "source": [
    "# 10. What percentage of food claims are completed vs. pending vs. canceled?\n",
    "\n",
    "query = \"SELECT status,COUNT(*) * 100.0 / (SELECT COUNT(*) FROM claims) FROM claims GROUP BY status;\"\n",
    "cur.execute(query)\n",
    "rows = cur.fetchall()\n",
    "for row in rows:\n",
    "    print (row)\n",
    "# 11. What is the average quantity of food claimed per receiver?\n",
    "\n",
    "query = \"SELECT r.Name, AVG(quantity) AS Avg FROM claims c,food_listings f, receivers r where c.Food_ID =f.Food_ID and c.Receiver_ID = r.Receiver_ID GROUP BY r.Name order by Avg desc\"\n",
    "cur.execute(query)\n",
    "rows = cur.fetchall()\n",
    "for row in rows:\n",
    "    print (row)\n"
   ]
  },
  {
   "cell_type": "code",
   "execution_count": null,
   "id": "684e068d-2092-485a-8e4c-ed63d4362a5b",
   "metadata": {},
   "outputs": [],
   "source": [
    "# 11. What is the average quantity of food claimed per receiver?\n",
    "\n",
    "query = \"SELECT r.Name, AVG(quantity) AS Avg FROM claims c,food_listings f, receivers r where c.Food_ID =f.Food_ID and c.Receiver_ID = r.Receiver_ID GROUP BY r.Name order by Avg desc\"\n",
    "cur.execute(query)\n",
    "rows = cur.fetchall()\n",
    "for row in rows:\n",
    "    print (row)\n"
   ]
  },
  {
   "cell_type": "code",
   "execution_count": null,
   "id": "ab730270-015a-4538-aaf3-716e9b0e1986",
   "metadata": {},
   "outputs": [],
   "source": [
    "# 12. Which meal type (breakfast, lunch, dinner, snacks) is claimed the most?\n",
    "\n",
    "query = \"select Meal_Type, count(*) from  food_listings f,claims c where f.Food_ID = c.Food_ID group by Meal_Type having count(*) > 1 order by count(*) desc\"\n",
    "cur.execute(query)\n",
    "rows = cur.fetchall()\n",
    "for row in rows:\n",
    "    print (row)\n"
   ]
  },
  {
   "cell_type": "code",
   "execution_count": null,
   "id": "f1b27b7c-74bd-4b94-9833-53536cb2499c",
   "metadata": {},
   "outputs": [],
   "source": [
    "# 13. What is the total quantity of food donated by each provider?\n",
    "\n",
    "query = \"SELECT p.Name,sum(quantity) as total from providers p, food_listings f where p.Provider_ID = f.Provider_ID group by p.Name order by total desc\"\n",
    "cur.execute(query)\n",
    "rows = cur.fetchall()\n",
    "for row in rows:\n",
    "    print (row)"
   ]
  },
  {
   "cell_type": "code",
   "execution_count": null,
   "id": "930d20e9-d863-4c89-a15a-1c91dc46514a",
   "metadata": {},
   "outputs": [],
   "source": []
  },
  {
   "cell_type": "code",
   "execution_count": null,
   "id": "090dc2e5-1293-4286-be0a-df212a974db8",
   "metadata": {},
   "outputs": [],
   "source": [
    "import streamlit as st\n",
    "!pip install streamlit"
   ]
  },
  {
   "cell_type": "code",
   "execution_count": null,
   "id": "4c34c929-3c36-413a-bb3c-ade062f596c6",
   "metadata": {},
   "outputs": [],
   "source": [
    "%%writefile Food_Waste_Project_finalDraft_app.py\n",
    "import streamlit as st\n",
    "\n",
    "# Set Streamlit page config\n",
    "st.set_page_config(page_title=\"Local Food Wastage System\", layout=\"wide\")\n",
    "\n",
    "# Page title\n",
    "st.title(\"🍛 Local Food Wastage Management System\")\n",
    "\n",
    "# Sidebar navigation\n",
    "menu = st.sidebar.radio(\"Select Section\", [\"Providers\", \"Receivers\", \"Food Listings\", \"Claims\", \"Analysis\"])\n"
   ]
  },
  {
   "cell_type": "code",
   "execution_count": null,
   "id": "1d61f8ea-9d8f-4dc6-a179-e2d0602918c0",
   "metadata": {},
   "outputs": [],
   "source": [
    "!streamlit run Food_Waste_Project_finalDraft_app.py"
   ]
  },
  {
   "cell_type": "code",
   "execution_count": null,
   "id": "e1f60fa2-1aa7-4a8b-a2d6-ad44b994f13f",
   "metadata": {},
   "outputs": [],
   "source": [
    "\n",
    "# Providers Section\n",
    "if menu == \"Providers\":\n",
    "    st.header(\"Food Providers by City\")\n",
    "    cities = pd.read_sql_query(\"SELECT DISTINCT City FROM providers_data ORDER BY City\", conn)\n",
    "    selected_city = st.selectbox(\"Select a City\", cities['City'])\n",
    "\n",
    "    query = \"SELECT Name, Contact FROM providers_data WHERE City = \"\n",
    "    results = pd.read_sql_query(query, conn, params=(selected_city,))\n",
    "    st.write(f\"Found {len(results)} providers in {selected_city}:\")\n",
    "    st.dataframe(results)\n",
    "    "
   ]
  },
  {
   "cell_type": "code",
   "execution_count": null,
   "id": "3586e443-bb1e-4dd8-84e0-a883329573f0",
   "metadata": {},
   "outputs": [],
   "source": [
    "# Receivers Section\n",
    "elif menu == \"Receivers\":\n",
    "    st.header(\"🎯 Food Receivers by City\")\n",
    "    cities = pd.read_sql_query(\"SELECT DISTINCT City FROM receivers_data ORDER BY City\", conn)\n",
    "    selected_city = st.selectbox(\"Select a City\", cities['City'])\n",
    "\n",
    "    query = \"SELECT Name, Contact FROM receivers_df WHERE City = ?\"\n",
    "    results = pd.read_sql_query(query, conn, params=(selected_city,))\n",
    "    st.write(f\"Found {len(results)} receivers in {selected_city}:\")\n",
    "    st.dataframe(results)\n"
   ]
  },
  {
   "cell_type": "code",
   "execution_count": null,
   "id": "2b89dec4-3178-4d4b-9089-6df1e23d22ab",
   "metadata": {},
   "outputs": [],
   "source": [
    "# Food Listings Section\n",
    "elif menu == \"Food Listings\":\n",
    "    st.header(\"🍽 Available Food Listings\")\n",
    "    df = pd.read_sql_query(\"SELECT * FROM food_listings_data\", conn)\n",
    "    st.dataframe(df)\n"
   ]
  },
  {
   "cell_type": "code",
   "execution_count": null,
   "id": "82fbe475-e3d2-4df7-b3ca-48c2772c355c",
   "metadata": {},
   "outputs": [],
   "source": [
    "# Claims Section\n",
    "elif menu == \"Claims\":\n",
    "    st.header(\"📦 Food Claims Overview\")\n",
    "    df = pd.read_sql_query(\"SELECT * FROM claims_data\", conn)\n",
    "    st.dataframe(df)\n"
   ]
  },
  {
   "cell_type": "code",
   "execution_count": null,
   "id": "77983233-4f0a-4093-a7ff-d87a390e2403",
   "metadata": {},
   "outputs": [],
   "source": [
    "# Analysis Section\n",
    "elif menu == \"Analysis\":\n",
    "    st.header(\"📊 Insights & SQL Queries\")\n",
    "\n",
    "    col1, col2 = st.columns(2)\n",
    "\n",
    "    with col1:\n",
    "        st.subheader(\"1. Providers & Receivers by City\")\n",
    "        df1 = pd.read_sql_query(\"\"\"\n",
    "            SELECT City, COUNT(*) AS Providers FROM providers_data GROUP BY City\"\"\", conn)\n",
    "        df2 = pd.read_sql_query(\"\"\"\n",
    "            SELECT City, COUNT(*) AS Receivers FROM receivers_data GROUP BY City \"\"\", conn)\n",
    "        merged = pd.merge(df1, df2, on=\"City\", how=\"outer\").fillna(0)\n",
    "        st.dataframe(merged)\n",
    "\n",
    "    with col2:\n",
    "        st.subheader(\"2. Top Provider Types\")\n",
    "        df = pd.read_sql_query(\"\"\"SELECT Type, COUNT(*) AS Total FROM providers_data GROUP BY Type ORDER BY Total DESC\"\"\", conn)\n",
    "        st.dataframe(df)\n",
    "\n",
    "    st.subheader(\"3. Completed vs. Pending vs. Cancelled Claims\")\n",
    "    df = pd.read_sql_query(\"\"\" SELECT Status, COUNT(*) AS Count FROM claims_data GROUP BY Status \"\"\", conn)\n",
    "    st.bar_chart(df.set_index('Status'))\n",
    "\n",
    "conn.close()"
   ]
  },
  {
   "cell_type": "code",
   "execution_count": null,
   "id": "60cfbc4c-cf1b-4ef1-a032-d7f3eeafc96d",
   "metadata": {},
   "outputs": [],
   "source": [
    "!streamlit run Food_Waste_Project_finalDraft_app.py"
   ]
  },
  {
   "cell_type": "code",
   "execution_count": null,
   "id": "8721cd62-5aba-4271-bd7c-720e20399cf5",
   "metadata": {},
   "outputs": [],
   "source": []
  },
  {
   "cell_type": "code",
   "execution_count": null,
   "id": "0879582b-bae8-4153-8136-8d9f064d86f5",
   "metadata": {},
   "outputs": [],
   "source": []
  },
  {
   "cell_type": "code",
   "execution_count": null,
   "id": "6765f96d-0940-49bf-a549-761437552e0b",
   "metadata": {},
   "outputs": [],
   "source": []
  },
  {
   "cell_type": "code",
   "execution_count": null,
   "id": "2ad983ed-1512-4552-b34f-3dc0d70c01f3",
   "metadata": {},
   "outputs": [],
   "source": []
  },
  {
   "cell_type": "code",
   "execution_count": null,
   "id": "7f691974-bc7d-4908-adcb-493acec852fc",
   "metadata": {},
   "outputs": [],
   "source": []
  },
  {
   "cell_type": "code",
   "execution_count": null,
   "id": "99db5378-1519-424b-a937-7aa95d29a869",
   "metadata": {},
   "outputs": [],
   "source": []
  },
  {
   "cell_type": "code",
   "execution_count": null,
   "id": "43b765b2-b6b9-4c8f-8db8-551b16bd0b91",
   "metadata": {},
   "outputs": [],
   "source": []
  },
  {
   "cell_type": "code",
   "execution_count": null,
   "id": "7f2d63f7-21be-4e28-8472-7223f8dae6c6",
   "metadata": {},
   "outputs": [],
   "source": []
  },
  {
   "cell_type": "code",
   "execution_count": null,
   "id": "aabe0b61-ac78-4a21-a1e0-6e4cf1c5759c",
   "metadata": {},
   "outputs": [],
   "source": []
  }
 ],
 "metadata": {
  "kernelspec": {
   "display_name": "Python [conda env:base] *",
   "language": "python",
   "name": "conda-base-py"
  },
  "language_info": {
   "codemirror_mode": {
    "name": "ipython",
    "version": 3
   },
   "file_extension": ".py",
   "mimetype": "text/x-python",
   "name": "python",
   "nbconvert_exporter": "python",
   "pygments_lexer": "ipython3",
   "version": "3.12.7"
  }
 },
 "nbformat": 4,
 "nbformat_minor": 5
}
